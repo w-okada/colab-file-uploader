{
  "nbformat": 4,
  "nbformat_minor": 0,
  "metadata": {
    "colab": {
      "provenance": [],
      "authorship_tag": "ABX9TyPVP2jFDBbtgcVK1O8WJKRK",
      "include_colab_link": true
    },
    "kernelspec": {
      "name": "python3",
      "display_name": "Python 3"
    },
    "language_info": {
      "name": "python"
    }
  },
  "cells": [
    {
      "cell_type": "markdown",
      "metadata": {
        "id": "view-in-github",
        "colab_type": "text"
      },
      "source": [
        "<a href=\"https://colab.research.google.com/github/w-okada/colab-file-uploader/blob/master/Fileuploader_for_colab.ipynb\" target=\"_parent\"><img src=\"https://colab.research.google.com/assets/colab-badge.svg\" alt=\"Open In Colab\"/></a>"
      ]
    },
    {
      "cell_type": "code",
      "execution_count": 1,
      "metadata": {
        "id": "AXDEf3rCdGpY"
      },
      "outputs": [],
      "source": [
        "import random\n",
        "PORT = 10000 + random.randint(1, 9999)\n",
        "LOG_FILE = f\"LOG_FILE_{PORT}\""
      ]
    },
    {
      "cell_type": "code",
      "source": [
        "!chmod uog+x ./main\n",
        "get_ipython().system_raw(f'./main main_process --port {PORT} --allow_files voice.zip --file_titles  a >{LOG_FILE} 2>&1 &')\n",
        "\n",
        "from google.colab.output import eval_js\n",
        "proxy = eval_js( \"google.colab.kernel.proxyPort(\" + str(PORT) + \")\" )\n",
        "print(f\"{proxy}trainer/\")\n"
      ],
      "metadata": {
        "colab": {
          "base_uri": "https://localhost:8080/",
          "height": 53
        },
        "id": "Lb16-oXkdMpz",
        "outputId": "dfdbe985-46d3-4491-885f-64dfd8c9bbb5"
      },
      "execution_count": 2,
      "outputs": [
        {
          "output_type": "stream",
          "name": "stdout",
          "text": [
            "chmod: cannot access './main': No such file or directory\n",
            "https://hcirdmadro-496ff2e9c6d22116-10462-colab.googleusercontent.com/trainer/\n"
          ]
        }
      ]
    },
    {
      "cell_type": "code",
      "source": [],
      "metadata": {
        "id": "HMr9-sPMdN4m"
      },
      "execution_count": null,
      "outputs": []
    }
  ]
}