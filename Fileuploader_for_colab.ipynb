{
  "nbformat": 4,
  "nbformat_minor": 0,
  "metadata": {
    "colab": {
      "provenance": [],
      "authorship_tag": "ABX9TyPWtWXrppncQXQCtpj4PzB3",
      "include_colab_link": true
    },
    "kernelspec": {
      "name": "python3",
      "display_name": "Python 3"
    },
    "language_info": {
      "name": "python"
    }
  },
  "cells": [
    {
      "cell_type": "markdown",
      "metadata": {
        "id": "view-in-github",
        "colab_type": "text"
      },
      "source": [
        "<a href=\"https://colab.research.google.com/github/w-okada/colab-file-uploader/blob/master/Fileuploader_for_colab.ipynb\" target=\"_parent\"><img src=\"https://colab.research.google.com/assets/colab-badge.svg\" alt=\"Open In Colab\"/></a>"
      ]
    },
    {
      "cell_type": "markdown",
      "source": [
        "# demo of easy-file-uploader-py\n",
        "\n",
        "---\n",
        "\n",
        " [repository](https://github.com/w-okada/colab-file-uploader)\n"
      ],
      "metadata": {
        "id": "spSx4qTng8in"
      }
    },
    {
      "cell_type": "code",
      "source": [
        "!wget https://github.com/w-okada/colab-file-uploader/releases/download/v0.0.1/main -O file_uploader -o wget_log.txt\n",
        "!chmod uog+x ./file_uploader"
      ],
      "metadata": {
        "id": "YuxHbK5-g7Jj"
      },
      "execution_count": 3,
      "outputs": []
    },
    {
      "cell_type": "code",
      "execution_count": 4,
      "metadata": {
        "id": "AXDEf3rCdGpY"
      },
      "outputs": [],
      "source": [
        "import random\n",
        "PORT = 10000 + random.randint(1, 9999)\n",
        "LOG_FILE = f\"LOG_FILE_{PORT}\""
      ]
    },
    {
      "cell_type": "code",
      "source": [
        "get_ipython().system_raw(f'./file_uploader main_process --port {PORT} --allow_files upload.zip --file_titles FILE  >{LOG_FILE} 2>&1 &')\n",
        "\n",
        "from google.colab.output import eval_js\n",
        "proxy = eval_js( \"google.colab.kernel.proxyPort(\" + str(PORT) + \")\" )\n",
        "print(f\"{proxy}front/\")\n"
      ],
      "metadata": {
        "colab": {
          "base_uri": "https://localhost:8080/",
          "height": 35
        },
        "id": "Lb16-oXkdMpz",
        "outputId": "ec08ce0a-380d-4aee-80e6-73ca060a47f6"
      },
      "execution_count": 6,
      "outputs": [
        {
          "output_type": "stream",
          "name": "stdout",
          "text": [
            "https://qzadcqnk88-496ff2e9c6d22116-15618-colab.googleusercontent.com/front/\n"
          ]
        }
      ]
    },
    {
      "cell_type": "code",
      "source": [],
      "metadata": {
        "id": "HMr9-sPMdN4m"
      },
      "execution_count": null,
      "outputs": []
    }
  ]
}